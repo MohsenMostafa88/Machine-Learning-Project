{
 "cells": [
  {
   "cell_type": "markdown",
   "id": "06b73b94",
   "metadata": {},
   "source": [
    "Linear Regression using (GBR)"
   ]
  },
  {
   "cell_type": "markdown",
   "id": "f4357058",
   "metadata": {},
   "source": [
    "The data contains the following columns:\n",
    "\n",
    "* YearsExperience\n",
    "* Salary\n"
   ]
  },
  {
   "cell_type": "markdown",
   "id": "1f26883c",
   "metadata": {},
   "source": [
    "import the necessary libraries."
   ]
  },
  {
   "cell_type": "code",
   "execution_count": 1,
   "id": "f73dcf5a",
   "metadata": {},
   "outputs": [
    {
     "data": {
      "text/html": [
       "<div>\n",
       "<style scoped>\n",
       "    .dataframe tbody tr th:only-of-type {\n",
       "        vertical-align: middle;\n",
       "    }\n",
       "\n",
       "    .dataframe tbody tr th {\n",
       "        vertical-align: top;\n",
       "    }\n",
       "\n",
       "    .dataframe thead th {\n",
       "        text-align: right;\n",
       "    }\n",
       "</style>\n",
       "<table border=\"1\" class=\"dataframe\">\n",
       "  <thead>\n",
       "    <tr style=\"text-align: right;\">\n",
       "      <th></th>\n",
       "      <th>YearsExperience</th>\n",
       "      <th>Salary</th>\n",
       "    </tr>\n",
       "  </thead>\n",
       "  <tbody>\n",
       "    <tr>\n",
       "      <th>0</th>\n",
       "      <td>1.2</td>\n",
       "      <td>39344</td>\n",
       "    </tr>\n",
       "    <tr>\n",
       "      <th>1</th>\n",
       "      <td>1.4</td>\n",
       "      <td>46206</td>\n",
       "    </tr>\n",
       "    <tr>\n",
       "      <th>2</th>\n",
       "      <td>1.6</td>\n",
       "      <td>37732</td>\n",
       "    </tr>\n",
       "    <tr>\n",
       "      <th>3</th>\n",
       "      <td>2.1</td>\n",
       "      <td>43526</td>\n",
       "    </tr>\n",
       "    <tr>\n",
       "      <th>4</th>\n",
       "      <td>2.3</td>\n",
       "      <td>39892</td>\n",
       "    </tr>\n",
       "  </tbody>\n",
       "</table>\n",
       "</div>"
      ],
      "text/plain": [
       "   YearsExperience  Salary\n",
       "0              1.2   39344\n",
       "1              1.4   46206\n",
       "2              1.6   37732\n",
       "3              2.1   43526\n",
       "4              2.3   39892"
      ]
     },
     "execution_count": 1,
     "metadata": {},
     "output_type": "execute_result"
    }
   ],
   "source": [
    "import pandas as pd\n",
    "import numpy as np\n",
    "from sklearn.linear_model import LinearRegression\n",
    "from sklearn.ensemble import GradientBoostingRegressor\n",
    "from matplotlib import pyplot as plt\n",
    "\n",
    "df = pd.read_csv(\"Salary_dataset.csv\",sep=\",\",index_col=0)\n",
    "df.head()"
   ]
  },
  {
   "cell_type": "markdown",
   "id": "c6ea9b24",
   "metadata": {},
   "source": [
    "split the data into a training set and a test set."
   ]
  },
  {
   "cell_type": "code",
   "execution_count": null,
   "id": "973f3f8c",
   "metadata": {},
   "outputs": [],
   "source": [
    "X_train = data[['YearsExperience']]\n",
    "y_train = data['Salary']\n",
    "\n",
    "X_test = data[['YearsExperience']]\n",
    "y_test = data['Salary']"
   ]
  },
  {
   "cell_type": "markdown",
   "id": "e9b72612",
   "metadata": {},
   "source": [
    "  Now train a linear regression model."
   ]
  },
  {
   "cell_type": "code",
   "execution_count": null,
   "id": "64f8f77d",
   "metadata": {},
   "outputs": [],
   "source": [
    "model = LinearRegression()\n",
    "model.fit(X_train, y_train)"
   ]
  },
  {
   "cell_type": "markdown",
   "id": "5bfa55b2",
   "metadata": {},
   "source": [
    " predict the salaries for the test set."
   ]
  },
  {
   "cell_type": "code",
   "execution_count": null,
   "id": "d771e3a3",
   "metadata": {},
   "outputs": [],
   "source": [
    "y_pred = model.predict(X_test)"
   ]
  },
  {
   "cell_type": "markdown",
   "id": "e0221737",
   "metadata": {},
   "source": [
    " Evaluate the model's performance."
   ]
  },
  {
   "cell_type": "code",
   "execution_count": null,
   "id": "68d6710a",
   "metadata": {},
   "outputs": [],
   "source": [
    "print('Mean squared error:', np.mean((y_pred - y_test)**2))\n",
    "print('R-squared:', model.score(X_test, y_test))"
   ]
  },
  {
   "cell_type": "markdown",
   "id": "c89a00de",
   "metadata": {},
   "source": [
    " [ MSE] for the dataset that you provided is much larger than the mean squared error for the dataset that I used. This means that the model is not able to fit the data as well for the dataset that you provided. The R-squared value is also lower for the dataset that you provided, which means that the model is able to explain less of the variation in the data."
   ]
  },
  {
   "cell_type": "code",
   "execution_count": null,
   "id": "2eb82eed",
   "metadata": {},
   "outputs": [],
   "source": [
    "plt.scatter(X_train, y_train, color='red')\n",
    "plt.plot(X_test, y_pred, color='blue')\n",
    "plt.xlabel('YearsExperience')\n",
    "plt.ylabel('Salary')\n",
    "plt.title('Linear Regression Model')\n",
    "plt.show()"
   ]
  },
  {
   "cell_type": "markdown",
   "id": "048ff8ba",
   "metadata": {},
   "source": [
    " The graph shows that the linear regression model is able to fit the data well. We can now try to improve the model's performance by using a gradient boosting regressor.\n"
   ]
  },
  {
   "cell_type": "code",
   "execution_count": null,
   "id": "7c9126cf",
   "metadata": {},
   "outputs": [],
   "source": [
    "model = GradientBoostingRegressor()\n",
    "model.fit(X_train, y_train)\n",
    "\n",
    "y_pred = model.predict(X_test)\n",
    "\n",
    "print('Mean squared error:', np.mean((y_pred - y_test)**2))\n",
    "print('R-squared:', model.score(X_test, y_test))"
   ]
  },
  {
   "cell_type": "markdown",
   "id": "df92e4d9",
   "metadata": {},
   "source": [
    "[MSE] and R-squared are both lower for the new values that you provided. This means that the model is able to fit the data better for the new dataset. The R-squared value is very close to 1, which means that the model is able to explain almost all of the variation in the data.\n"
   ]
  },
  {
   "cell_type": "code",
   "execution_count": null,
   "id": "55cdf1fd",
   "metadata": {},
   "outputs": [],
   "source": []
  },
  {
   "cell_type": "code",
   "execution_count": null,
   "id": "c7835474",
   "metadata": {},
   "outputs": [],
   "source": [
    "plt.scatter(X_train, y_train, color='red')\n",
    "plt.plot(X_test, y_pred, color='blue')\n",
    "plt.xlabel('YearsExperience')\n",
    "plt.ylabel('Salary')\n",
    "plt.title('Gradient Boosting Regressor')\n",
    "plt.show()\n"
   ]
  },
  {
   "cell_type": "code",
   "execution_count": null,
   "id": "6fda5d86",
   "metadata": {},
   "outputs": [],
   "source": []
  },
  {
   "cell_type": "code",
   "execution_count": null,
   "id": "9ff092f0",
   "metadata": {},
   "outputs": [],
   "source": []
  },
  {
   "cell_type": "code",
   "execution_count": null,
   "id": "455ec7d9",
   "metadata": {},
   "outputs": [],
   "source": []
  },
  {
   "cell_type": "code",
   "execution_count": null,
   "id": "a081f8aa",
   "metadata": {},
   "outputs": [],
   "source": []
  },
  {
   "cell_type": "code",
   "execution_count": null,
   "id": "469ef42b",
   "metadata": {},
   "outputs": [],
   "source": []
  },
  {
   "cell_type": "code",
   "execution_count": null,
   "id": "386d1a3b",
   "metadata": {},
   "outputs": [],
   "source": []
  },
  {
   "cell_type": "code",
   "execution_count": null,
   "id": "2e4f8234",
   "metadata": {},
   "outputs": [],
   "source": []
  }
 ],
 "metadata": {
  "kernelspec": {
   "display_name": "Python 3 (ipykernel)",
   "language": "python",
   "name": "python3"
  },
  "language_info": {
   "codemirror_mode": {
    "name": "ipython",
    "version": 3
   },
   "file_extension": ".py",
   "mimetype": "text/x-python",
   "name": "python",
   "nbconvert_exporter": "python",
   "pygments_lexer": "ipython3",
   "version": "3.10.6"
  }
 },
 "nbformat": 4,
 "nbformat_minor": 5
}
